{
 "cells": [
  {
   "cell_type": "code",
   "execution_count": 0,
   "metadata": {
    "application/vnd.databricks.v1+cell": {
     "cellMetadata": {
      "byteLimit": 2048000,
      "implicitDf": true,
      "rowLimit": 10000
     },
     "inputWidgets": {},
     "nuid": "a54a8aa9-2b23-4fa6-8628-f3da871ecf14",
     "showTitle": false,
     "tableResultSettingsMap": {},
     "title": ""
    }
   },
   "outputs": [],
   "source": [
    "%sql\n",
    "use catalog dev; \n",
    "use schema silver; "
   ]
  },
  {
   "cell_type": "code",
   "execution_count": 0,
   "metadata": {
    "application/vnd.databricks.v1+cell": {
     "cellMetadata": {
      "byteLimit": 2048000,
      "implicitDf": true,
      "rowLimit": 10000
     },
     "inputWidgets": {},
     "nuid": "f6434cec-c409-4e71-a6ca-80fed646660d",
     "showTitle": false,
     "tableResultSettingsMap": {},
     "title": ""
    }
   },
   "outputs": [],
   "source": [
    "%sql\n",
    "CREATE OR REPLACE TABLE heartrate_device (device_id INT, mrn STRING, name STRING, time TIMESTAMP, heartrate DOUBLE); "
   ]
  },
  {
   "cell_type": "code",
   "execution_count": 0,
   "metadata": {
    "application/vnd.databricks.v1+cell": {
     "cellMetadata": {
      "byteLimit": 2048000,
      "implicitDf": true,
      "rowLimit": 10000
     },
     "inputWidgets": {},
     "nuid": "4b3e85e0-dba5-4645-8ff9-5e872fc4ceed",
     "showTitle": false,
     "tableResultSettingsMap": {},
     "title": ""
    }
   },
   "outputs": [],
   "source": [
    "%sql\n",
    "INSERT INTO heartrate_device VALUES \n",
    "(23, \"40580129\", \"Nicholas Spears\", \"2020-02-01T00:01:58.000+0000\", 54.0122153343), \n",
    "(17, \"52804177\", \"Lynn Russell\", \"2020-02-01T00:02:55.000+0000\", 92.5136468131), \n",
    "(37, \"65300842\", \"Samuel Hughes\", \"2020-02-01T00:08:58.000+0000\", 52.1354807863), \n",
    "(23, \"40580129\", \"Nicholas Spears\", \"2020-02-01T00:16:51.000+0000\", 54.6477014191), \n",
    "(17, \"52804177\", \"Lynn Russell\", \"2020-02-01T00:18:08.000+0000\", 95.033344842); "
   ]
  },
  {
   "cell_type": "code",
   "execution_count": 0,
   "metadata": {
    "application/vnd.databricks.v1+cell": {
     "cellMetadata": {
      "byteLimit": 2048000,
      "implicitDf": true,
      "rowLimit": 10000
     },
     "inputWidgets": {},
     "nuid": "6d91c603-57e8-4216-b62c-b8f44c563469",
     "showTitle": false,
     "tableResultSettingsMap": {},
     "title": ""
    }
   },
   "outputs": [],
   "source": [
    "%sql\n",
    "SELECT * FROM heartrate_device ;\n",
    "\n",
    " "
   ]
  },
  {
   "cell_type": "code",
   "execution_count": 0,
   "metadata": {
    "application/vnd.databricks.v1+cell": {
     "cellMetadata": {
      "byteLimit": 2048000,
      "implicitDf": true,
      "rowLimit": 10000
     },
     "inputWidgets": {},
     "nuid": "29540ff7-f5ca-4f66-acd3-caa168b3fcb1",
     "showTitle": false,
     "tableResultSettingsMap": {},
     "title": ""
    }
   },
   "outputs": [],
   "source": [
    "%sql\n",
    "CREATE OR REPLACE VIEW gold.agg_heartrate AS ( \n",
    "SELECT mrn, name, MEAN(heartrate) avg_heartrate, DATE_TRUNC(\"DD\", time) date \n",
    "FROM heartrate_device \n",
    "GROUP BY mrn, name, DATE_TRUNC(\"DD\", time) \n",
    "); "
   ]
  },
  {
   "cell_type": "code",
   "execution_count": 0,
   "metadata": {
    "application/vnd.databricks.v1+cell": {
     "cellMetadata": {
      "byteLimit": 2048000,
      "implicitDf": true,
      "rowLimit": 10000
     },
     "inputWidgets": {},
     "nuid": "56a9f52a-5aee-45d9-ac0a-5e2e1ba7df1a",
     "showTitle": false,
     "tableResultSettingsMap": {},
     "title": ""
    }
   },
   "outputs": [],
   "source": [
    "%sql\n",
    "SELECT * FROM gold.agg_heartrate ;"
   ]
  },
  {
   "cell_type": "code",
   "execution_count": 0,
   "metadata": {
    "application/vnd.databricks.v1+cell": {
     "cellMetadata": {
      "byteLimit": 2048000,
      "rowLimit": 10000
     },
     "inputWidgets": {},
     "nuid": "64cefc0f-cedb-4364-8a4a-6cf2443df31d",
     "showTitle": false,
     "tableResultSettingsMap": {},
     "title": ""
    }
   },
   "outputs": [],
   "source": [
    "grant use catalog on catalog dev to `account users`; \n",
    "grant use schema on schema dev.gold to `account users`; \n",
    "grant select on table dev.gold.agg_heartrate to `account users` \n",
    "\n"
   ]
  },
  {
   "cell_type": "code",
   "execution_count": 0,
   "metadata": {
    "application/vnd.databricks.v1+cell": {
     "cellMetadata": {
      "byteLimit": 2048000,
      "implicitDf": true,
      "rowLimit": 10000
     },
     "inputWidgets": {},
     "nuid": "d8d867f2-7d07-4e04-a15e-57df6db3878f",
     "showTitle": false,
     "tableResultSettingsMap": {},
     "title": ""
    }
   },
   "outputs": [],
   "source": [
    "%sql\n",
    "\n",
    "-- Column level \n",
    "\n",
    "CREATE OR REPLACE VIEW gold.agg_heartrate AS \n",
    "SELECT \n",
    "CASE WHEN \n",
    "is_account_group_member(‘account users’) THEN mrn \n",
    "ELSE 'REDACTED' \n",
    "END AS mrn, \n",
    "name, \n",
    "MEAN(heartrate) avg_heartrate, \n",
    "DATE_TRUNC(\"DD\", time) date \n",
    "FROM heartrate_device \n",
    "GROUP BY mrn, name, DATE_TRUNC(\"DD\", time) ;\n",
    "\n",
    " \n",
    "\n",
    " \n",
    "\n"
   ]
  },
  {
   "cell_type": "code",
   "execution_count": 0,
   "metadata": {
    "application/vnd.databricks.v1+cell": {
     "cellMetadata": {},
     "inputWidgets": {},
     "nuid": "4b65cbed-51ec-42d2-b17b-69262461d458",
     "showTitle": false,
     "tableResultSettingsMap": {},
     "title": ""
    }
   },
   "outputs": [],
   "source": [
    "%sql\n",
    "-- row level \n",
    "\n",
    "CREATE OR REPLACE VIEW gold.agg_heartrate AS \n",
    "\n",
    "SELECT \n",
    "\n",
    "mrn, \n",
    "\n",
    "time, \n",
    "\n",
    "device_id, \n",
    "\n",
    "heartrate \n",
    "\n",
    "FROM heartrate_device \n",
    "\n",
    "WHERE \n",
    "\n",
    "CASE WHEN \n",
    "\n",
    "is_account_group_member('account users') THEN device_id < 30 \n",
    "\n",
    "ELSE TRUE \n",
    "\n",
    "END \n",
    "\n",
    " \n",
    "\n",
    "Data masking function \n",
    "\n",
    "CREATE OR REPLACE FUNCTION datamask(x STRING) \n",
    "\n",
    "RETURNS STRING \n",
    "\n",
    "RETURN CONCAT(REPEAT(\"*\", LENGTH(x) - 2), RIGHT(x, 2) \n",
    "\n",
    "); \n",
    "\n",
    " \n",
    "\n"
   ]
  },
  {
   "cell_type": "code",
   "execution_count": 0,
   "metadata": {
    "application/vnd.databricks.v1+cell": {
     "cellMetadata": {},
     "inputWidgets": {},
     "nuid": "53d3ce4a-d987-42e5-aaca-90c034d6373f",
     "showTitle": false,
     "tableResultSettingsMap": {},
     "title": ""
    }
   },
   "outputs": [],
   "source": [
    "%sql\n",
    "CREATE or replace VIEW gold.agg_heartrate AS \n",
    "\n",
    "SELECT \n",
    "\n",
    "CASE WHEN \n",
    "\n",
    "is_account_group_member('account users') THEN datamask(mrn) \n",
    "\n",
    "ELSE mrn \n",
    "\n",
    "END AS mrn, \n",
    "\n",
    "time, \n",
    "\n",
    "device_id, \n",
    "\n",
    "heartrate \n",
    "\n",
    "FROM heartrate_device "
   ]
  }
 ],
 "metadata": {
  "application/vnd.databricks.v1+notebook": {
   "computePreferences": null,
   "dashboards": [],
   "environmentMetadata": {
    "base_environment": "",
    "environment_version": "2"
   },
   "inputWidgetPreferences": null,
   "language": "python",
   "notebookMetadata": {
    "mostRecentlyExecutedCommandWithImplicitDF": {
     "commandId": 7324953782661907,
     "dataframes": [
      "_sqldf"
     ]
    },
    "pythonIndentUnit": 4
   },
   "notebookName": "Unity_Catalog",
   "widgets": {}
  },
  "language_info": {
   "name": "python"
  }
 },
 "nbformat": 4,
 "nbformat_minor": 0
}
