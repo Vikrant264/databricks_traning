{
 "cells": [
  {
   "cell_type": "code",
   "execution_count": 0,
   "metadata": {
    "application/vnd.databricks.v1+cell": {
     "cellMetadata": {
      "byteLimit": 2048000,
      "implicitDf": true,
      "rowLimit": 10000
     },
     "inputWidgets": {},
     "nuid": "a104a253-4112-469c-b138-e2fb11cbf03c",
     "showTitle": false,
     "tableResultSettingsMap": {},
     "title": ""
    }
   },
   "outputs": [],
   "source": [
    "%sql \n",
    "\n",
    "use catalog dev; \n",
    "\n",
    "create schema if not exists stream; \n",
    "use schema stream; \n",
    "create volume if not exists raw_csv; \n",
    "create volume if not exists checkpoints; \n",
    "create volume if not exists schemalocation ;"
   ]
  },
  {
   "cell_type": "code",
   "execution_count": 0,
   "metadata": {
    "application/vnd.databricks.v1+cell": {
     "cellMetadata": {
      "byteLimit": 2048000,
      "rowLimit": 10000
     },
     "inputWidgets": {},
     "nuid": "24fe8e67-15d9-4a8a-b6e1-dce62bb2237b",
     "showTitle": false,
     "tableResultSettingsMap": {},
     "title": ""
    }
   },
   "outputs": [],
   "source": [
    "schemalocation=\"/Volumes/dev/stream/schemalocation/auto_emp\"; \n",
    "input_path=\"/Volumes/dev/stream/raw_csv\" \n",
    "checkpoint=\"/Volumes/dev/stream/checkpoints/auto_emp\" \n",
    "catalog=\"dev\" \n",
    "schema=\"stream\" \n",
    "tablename=\"auto_emp\" "
   ]
  },
  {
   "cell_type": "code",
   "execution_count": 0,
   "metadata": {
    "application/vnd.databricks.v1+cell": {
     "cellMetadata": {
      "byteLimit": 2048000,
      "rowLimit": 10000
     },
     "inputWidgets": {},
     "nuid": "4349efe6-c32d-4421-8413-7b154e400b89",
     "showTitle": false,
     "tableResultSettingsMap": {},
     "title": ""
    }
   },
   "outputs": [],
   "source": [
    "( \n",
    "spark \n",
    ".readStream \n",
    ".format(\"cloudFiles\") \n",
    ".option(\"cloudFiles.format\",\"csv\") \n",
    ".option(\"cloudFiles.schemaLocation\",schemalocation) \n",
    ".load(input_path,header=True) \n",
    ".writeStream.option(\"checkpointLocation\",checkpoint) \n",
    ".trigger(once=True) \n",
    ".toTable(f\"{catalog}.{schema}.{tablename}\") \n",
    ") "
   ]
  },
  {
   "cell_type": "code",
   "execution_count": 0,
   "metadata": {
    "application/vnd.databricks.v1+cell": {
     "cellMetadata": {
      "byteLimit": 2048000,
      "implicitDf": true,
      "rowLimit": 10000
     },
     "inputWidgets": {},
     "nuid": "f8745790-c11b-4bc1-b780-a3ecd785a6b8",
     "showTitle": false,
     "tableResultSettingsMap": {},
     "title": ""
    }
   },
   "outputs": [],
   "source": [
    "%sql\n",
    "select * from auto_emp;"
   ]
  },
  {
   "cell_type": "code",
   "execution_count": 0,
   "metadata": {
    "application/vnd.databricks.v1+cell": {
     "cellMetadata": {
      "byteLimit": 2048000,
      "rowLimit": 10000
     },
     "inputWidgets": {},
     "nuid": "920bc613-51dc-4fad-9b18-83265b6c8370",
     "showTitle": false,
     "tableResultSettingsMap": {},
     "title": ""
    }
   },
   "outputs": [],
   "source": [
    "(spark\n",
    ".readStream\n",
    ".format(\"cloudFiles\")\n",
    ".option(\"cloudFiles.format\",\"csv\")\n",
    ".option(\"cloudFiles.schemaLocation\",schemalocation)\n",
    ".option(\"cloudFiles.schemaEvolutionMode\",\"addNewColumns\")\n",
    ".load(input_path,header=True)\n",
    ".writeStream.option(\"checkpointLocation\",checkpoint)\n",
    ".trigger(once=True)\n",
    ".option(\"mergeSchema\",\"true\")\n",
    ".toTable(f\"{catalog}.{schema}.{tablename}\")\n",
    ")"
   ]
  },
  {
   "cell_type": "code",
   "execution_count": 0,
   "metadata": {
    "application/vnd.databricks.v1+cell": {
     "cellMetadata": {
      "byteLimit": 2048000,
      "implicitDf": true,
      "rowLimit": 10000
     },
     "inputWidgets": {},
     "nuid": "50089829-41b9-4e23-8f1a-ced0dc0b71e7",
     "showTitle": false,
     "tableResultSettingsMap": {},
     "title": ""
    }
   },
   "outputs": [],
   "source": [
    "%sql\n",
    "select * from auto_emp;"
   ]
  },
  {
   "cell_type": "code",
   "execution_count": 0,
   "metadata": {
    "application/vnd.databricks.v1+cell": {
     "cellMetadata": {
      "byteLimit": 2048000,
      "rowLimit": 10000
     },
     "inputWidgets": {},
     "nuid": "7356442c-bd1b-448d-8256-efbb18c25bab",
     "showTitle": false,
     "tableResultSettingsMap": {},
     "title": ""
    }
   },
   "outputs": [],
   "source": [
    "(spark\n",
    ".readStream\n",
    ".format(\"cloudFiles\")\n",
    ".option(\"cloudFiles.format\",\"csv\")\n",
    ".option(\"cloudFiles.schemaLocation\",schemalocation)\n",
    ".option(\"cloudFiles.schemaEvolutionMode\",\"none\")\n",
    ".load(input_path,header=True)\n",
    ".writeStream.option(\"checkpointLocation\",checkpoint)\n",
    ".trigger(once=True)\n",
    ".option(\"mergeSchema\",\"true\")\n",
    ".toTable(f\"{catalog}.{schema}.{tablename}\")\n",
    ")"
   ]
  },
  {
   "cell_type": "code",
   "execution_count": 0,
   "metadata": {
    "application/vnd.databricks.v1+cell": {
     "cellMetadata": {
      "byteLimit": 2048000,
      "implicitDf": true,
      "rowLimit": 10000
     },
     "inputWidgets": {},
     "nuid": "8f8e382c-8011-4cb7-91e7-65afd5e53d7d",
     "showTitle": false,
     "tableResultSettingsMap": {},
     "title": ""
    }
   },
   "outputs": [],
   "source": [
    "%sql\n",
    "select * from dev.stream.auto_emp;"
   ]
  },
  {
   "cell_type": "code",
   "execution_count": 0,
   "metadata": {
    "application/vnd.databricks.v1+cell": {
     "cellMetadata": {
      "byteLimit": 2048000,
      "rowLimit": 10000
     },
     "inputWidgets": {},
     "nuid": "d28d7083-93c0-4218-a9f9-6a9a5953fdc3",
     "showTitle": false,
     "tableResultSettingsMap": {},
     "title": ""
    }
   },
   "outputs": [],
   "source": [
    "(spark\n",
    ".readStream\n",
    ".format(\"cloudFiles\")\n",
    ".option(\"cloudFiles.format\",\"csv\")\n",
    ".option(\"cloudFiles.schemaLocation\",schemalocation)\n",
    ".option(\"cloudFiles.schemaEvolutionMode\",\"failOnNewColumns\")\n",
    ".load(input_path,header=True)\n",
    ".writeStream.option(\"checkpointLocation\",checkpoint)\n",
    ".trigger(once=True)\n",
    ".option(\"mergeSchema\",\"true\")\n",
    ".toTable(f\"{catalog}.{schema}.{tablename}\")\n",
    ")"
   ]
  },
  {
   "cell_type": "code",
   "execution_count": 0,
   "metadata": {
    "application/vnd.databricks.v1+cell": {
     "cellMetadata": {
      "byteLimit": 2048000,
      "implicitDf": true,
      "rowLimit": 10000
     },
     "inputWidgets": {},
     "nuid": "7b14ce02-91e8-40b6-9f70-19fa7300b2d1",
     "showTitle": false,
     "tableResultSettingsMap": {},
     "title": ""
    }
   },
   "outputs": [],
   "source": [
    "%sql\n",
    "select * from auto_emp;"
   ]
  },
  {
   "cell_type": "code",
   "execution_count": 0,
   "metadata": {
    "application/vnd.databricks.v1+cell": {
     "cellMetadata": {
      "byteLimit": 2048000,
      "rowLimit": 10000
     },
     "inputWidgets": {},
     "nuid": "005d8736-3b03-49dc-949c-f77404a6ab39",
     "showTitle": false,
     "tableResultSettingsMap": {},
     "title": ""
    }
   },
   "outputs": [],
   "source": [
    "(spark\n",
    ".readStream\n",
    ".format(\"cloudFiles\")\n",
    ".option(\"cloudFiles.format\",\"csv\")\n",
    ".option(\"cloudFiles.schemaLocation\",schemalocation)\n",
    ".option(\"cloudFiles.schemaEvolutionMode\",\"addNewColumns\")\n",
    ".load(input_path,header=True)\n",
    ".writeStream.option(\"checkpointLocation\",checkpoint)\n",
    ".trigger(once=True)\n",
    ".option(\"mergeSchema\",\"true\")\n",
    ".toTable(f\"{catalog}.{schema}.{tablename}\")\n",
    ")"
   ]
  },
  {
   "cell_type": "code",
   "execution_count": 0,
   "metadata": {
    "application/vnd.databricks.v1+cell": {
     "cellMetadata": {
      "byteLimit": 2048000,
      "implicitDf": true,
      "rowLimit": 10000
     },
     "inputWidgets": {},
     "nuid": "1b3096f5-374e-4e1c-a6db-18fe7e0dd83c",
     "showTitle": false,
     "tableResultSettingsMap": {},
     "title": ""
    }
   },
   "outputs": [],
   "source": [
    "%sql\n",
    "select * from auto_emp;"
   ]
  },
  {
   "cell_type": "code",
   "execution_count": 0,
   "metadata": {
    "application/vnd.databricks.v1+cell": {
     "cellMetadata": {},
     "inputWidgets": {},
     "nuid": "9b52ad3e-01a9-4a7b-bc99-9c500bba810f",
     "showTitle": false,
     "tableResultSettingsMap": {},
     "title": ""
    }
   },
   "outputs": [],
   "source": []
  }
 ],
 "metadata": {
  "application/vnd.databricks.v1+notebook": {
   "computePreferences": null,
   "dashboards": [],
   "environmentMetadata": {
    "base_environment": "",
    "environment_version": "2"
   },
   "inputWidgetPreferences": null,
   "language": "python",
   "notebookMetadata": {
    "mostRecentlyExecutedCommandWithImplicitDF": {
     "commandId": 8125091853916834,
     "dataframes": [
      "_sqldf"
     ]
    },
    "pythonIndentUnit": 4
   },
   "notebookName": "Autoloader",
   "widgets": {}
  },
  "language_info": {
   "name": "python"
  }
 },
 "nbformat": 4,
 "nbformat_minor": 0
}
